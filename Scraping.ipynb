{
 "cells": [
  {
   "cell_type": "code",
   "execution_count": 1,
   "metadata": {},
   "outputs": [
    {
     "ename": "ModuleNotFoundError",
     "evalue": "No module named 'bs4'",
     "output_type": "error",
     "traceback": [
      "\u001b[1;31m---------------------------------------------------------------------------\u001b[0m",
      "\u001b[1;31mModuleNotFoundError\u001b[0m                       Traceback (most recent call last)",
      "Cell \u001b[1;32mIn[1], line 2\u001b[0m\n\u001b[0;32m      1\u001b[0m \u001b[38;5;28;01mimport\u001b[39;00m \u001b[38;5;21;01mcsv\u001b[39;00m\n\u001b[1;32m----> 2\u001b[0m \u001b[38;5;28;01mfrom\u001b[39;00m \u001b[38;5;21;01mbs4\u001b[39;00m \u001b[38;5;28;01mimport\u001b[39;00m BeautifulSoup\n\u001b[0;32m      3\u001b[0m \u001b[38;5;28;01mfrom\u001b[39;00m \u001b[38;5;21;01mrequests\u001b[39;00m\u001b[38;5;21;01m.\u001b[39;00m\u001b[38;5;21;01msessions\u001b[39;00m \u001b[38;5;28;01mimport\u001b[39;00m Session\n\u001b[0;32m      4\u001b[0m \u001b[38;5;28;01mimport\u001b[39;00m \u001b[38;5;21;01mrequests\u001b[39;00m\n",
      "\u001b[1;31mModuleNotFoundError\u001b[0m: No module named 'bs4'"
     ]
    },
    {
     "ename": "",
     "evalue": "",
     "output_type": "error",
     "traceback": [
      "\u001b[1;31mThe Kernel crashed while executing code in the current cell or a previous cell. \n",
      "\u001b[1;31mPlease review the code in the cell(s) to identify a possible cause of the failure. \n",
      "\u001b[1;31mClick <a href='https://aka.ms/vscodeJupyterKernelCrash'>here</a> for more info. \n",
      "\u001b[1;31mView Jupyter <a href='command:jupyter.viewOutput'>log</a> for further details."
     ]
    }
   ],
   "source": [
    "import csv\n",
    "from bs4 import BeautifulSoup\n",
    "from requests.sessions import Session\n",
    "import requests\n",
    "url=\"https://www.imdb.com/chart/top/\"\n",
    "ses = Session()\n",
    "page250=ses.get(\"https://www.imdb.com/chart/top/\")"
   ]
  },
  {
   "cell_type": "code",
   "execution_count": 2,
   "metadata": {},
   "outputs": [],
   "source": [
    "soup = BeautifulSoup(page250.content , 'html.parser')\n",
    "films=soup.find_all('td' , class_=\"titleColumn\")"
   ]
  },
  {
   "cell_type": "code",
   "execution_count": 3,
   "metadata": {},
   "outputs": [],
   "source": [
    "films_url = []\n",
    "const_url = \"?pf_rd_m=A2FGELUUNOQJNL&pf_rd_p=1a264172-ae11-42e4-8ef7-7fed1973bb8f&pf_rd_r=TYY518H37Z04HYF19FF7&pf_rd_s=center-1&pf_rd_t=15506&pf_rd_i=top&ref_=chttp_tt_1\"\n",
    "for film in films : \n",
    "    link = film.find('a')\n",
    "    film_url=link.get('href')\n",
    "    films_url.append(\"https://www.imdb.com/\"+film_url)  "
   ]
  },
  {
   "cell_type": "code",
   "execution_count": 8,
   "metadata": {},
   "outputs": [],
   "source": [
    "ses = Session()\n",
    "Cooperation = []\n",
    "with open('movies.csv' , 'a') as file :\n",
    "    wirter = csv.writer(file)\n",
    "    for url in films_url :\n",
    "        film_page = ses.get( url , )\n",
    "        soup1 = BeautifulSoup(film_page.content , 'html.parser')\n",
    "        name_div = soup1.find('div' , class_=\"sc-5be2ae66-1 dRYQIl\")\n",
    "        name = name_div.find('h1').text\n",
    "        genre_span = soup1.find_all('span' , class_=\"ipc-chip__text\")\n",
    "        genre= []\n",
    "        for Genre in genre_span :\n",
    "            genre.append(Genre.text)\n",
    "        language_li = soup1.find('li' , {'data-testid':'title-details-languages'})\n",
    "        language_a = language_li.find_all('a', class_=\"ipc-metadata-list-item__list-content-item ipc-metadata-list-item__list-content-item--link\") \n",
    "        language= []\n",
    "        for Language in language_a :\n",
    "            language.append(Language.text) \n",
    "        country_li = soup1.find('li' , {'data-testid':'title-details-origin'})\n",
    "        country_a = country_li.find_all('a', class_=\"ipc-metadata-list-item__list-content-item ipc-metadata-list-item__list-content-item--link\")\n",
    "        country= []\n",
    "        for Country in country_a : \n",
    "            country.append(Country.text)\n",
    "        year_product = soup1.find('span' , class_=\"sc-8c396aa2-2 jwaBvf\").text\n",
    "        rate = soup1.find('span' , class_=\"sc-7ab21ed2-1 eUYAaq\").text\n",
    "        number_of_voters = soup1.find('div' , class_=\"sc-7ab21ed2-3 iDwwZL\").text\n",
    "        director = soup1.find('a' , class_=\"ipc-metadata-list-item__list-content-item ipc-metadata-list-item__list-content-item--link\").text\n",
    "        rank = soup1.find('a' , class_=\"ipc-link ipc-link--base ipc-link--inherit-color top-rated-link\").text\n",
    "        try:\n",
    "            budget_section = soup1.find('ul',class_=\"ipc-metadata-list ipc-metadata-list--dividers-none ipc-metadata-list--compact sc-6d4f3f8c-0 VdkJY ipc-metadata-list--base\")\n",
    "            budget = budget_section.find('label' , class_=\"ipc-metadata-list-item__list-content-item\").text\n",
    "            if (\"estimated\" in budget):\n",
    "                currency = budget[0]\n",
    "                budget= budget.split()[0][1:]\n",
    "                budget=budget.replace(',','')\n",
    "            else :\n",
    "                budget = '0'\n",
    "        except:\n",
    "            budget = '0'\n",
    "        director = soup1.find('a' , class_=\"ipc-metadata-list-item__list-content-item ipc-metadata-list-item__list-content-item--link\").text\n",
    "        actor_a = soup1.find_all('a' , class_=\"sc-bfec09a1-1 fUguci\")\n",
    "        actors = []\n",
    "        for Actor in actor_a:\n",
    "            actor = Actor.text\n",
    "            cooperation_info = [actor,director,name]\n",
    "            Cooperation.append(cooperation_info)    \n",
    "        Cooperation.append(cooperation_info)    \n",
    "        index= rank.find('#')\n",
    "        rank = rank[index+1:]\n",
    "        genre = genre[:-1]\n",
    "        genre = str(genre)[1:-1]\n",
    "        genre = genre.replace(\"'\" , '')\n",
    "        language = str(language)[1:-1]\n",
    "        language = language.replace(\"'\",'')\n",
    "        country = str(country)[1:-1]\n",
    "        country = country.replace(\"'\" , '')\n",
    "        if('K' in number_of_voters):\n",
    "            number_of_voters = int(float(number_of_voters[:-1]) * 10**3)\n",
    "        else : \n",
    "            number_of_voters = int(float(number_of_voters[:-1])* 10**6)      \n",
    "        film_info = [name , year_product , rate , number_of_voters , genre, director,budget,currency,language,rank,country]\n",
    "        wirter.writerow(film_info)\n",
    "    file.close()\n",
    "with open('cooperation.csv','a') as file:\n",
    "    writer = csv.writer(file)\n",
    "    for cooperation_info in Cooperation :\n",
    "        writer.writerow(cooperation_info)\n",
    "    file.close()            "
   ]
  }
 ],
 "metadata": {
  "kernelspec": {
   "display_name": "Python 3",
   "language": "python",
   "name": "python3"
  },
  "language_info": {
   "codemirror_mode": {
    "name": "ipython",
    "version": 3
   },
   "file_extension": ".py",
   "mimetype": "text/x-python",
   "name": "python",
   "nbconvert_exporter": "python",
   "pygments_lexer": "ipython3",
   "version": "3.12.0"
  },
  "orig_nbformat": 4,
  "vscode": {
   "interpreter": {
    "hash": "318f2c383d48220c821fefd227250c35bb828f95042f5889a5ad1704b1baf79c"
   }
  }
 },
 "nbformat": 4,
 "nbformat_minor": 2
}
